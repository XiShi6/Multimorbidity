{
 "cells": [
  {
   "cell_type": "markdown",
   "source": [
    "An example of implementation of Markov chain analysis"
   ],
   "metadata": {
    "collapsed": false,
    "pycharm": {
     "name": "#%% md\n"
    }
   }
  },
  {
   "cell_type": "code",
   "execution_count": 1,
   "outputs": [],
   "source": [
    "import pandas as pd\n",
    "import numpy as np"
   ],
   "metadata": {
    "collapsed": false,
    "pycharm": {
     "name": "#%%\n",
     "is_executing": false
    }
   }
  },
  {
   "cell_type": "code",
   "execution_count": 2,
   "metadata": {
    "collapsed": true,
    "pycharm": {
     "is_executing": false
    }
   },
   "outputs": [],
   "source": [
    "from itertools import islice\n",
    "def window(seq, n=2):\n",
    "    \"Sliding window width n from seq.  From old itertools recipes.\"\"\"\n",
    "    it = iter(seq)\n",
    "    result = tuple(islice(it, n))\n",
    "    if len(result) == n:\n",
    "        yield result\n",
    "    for elem in it:\n",
    "        result = result[1:] + (elem,)\n",
    "        yield result"
   ]
  },
  {
   "cell_type": "code",
   "execution_count": 3,
   "outputs": [],
   "source": [
    "def MarkovSimulator(Series):\n",
    "    pairs = pd.DataFrame(window(Series), columns=['state1', 'state2'])\n",
    "    counts = pairs.groupby('state1')['state2'].value_counts()\n",
    "    probs = counts.unstack().div(counts.unstack().sum(axis=1), axis=0)\n",
    "    probs=probs.fillna(0)\n",
    "    return (probs)"
   ],
   "metadata": {
    "collapsed": false,
    "pycharm": {
     "name": "#%%\n",
     "is_executing": false
    }
   }
  },
  {
   "cell_type": "code",
   "execution_count": 4,
   "outputs": [
    {
     "data": {
      "text/plain": "      0\n0   K86\n1   L95\n2   P70\n3   L91\n4     e\n5   T92\n6   K86\n7   R96\n8   L90\n9     e\n10  R79\n11  L89\n12  K75\n13  L91\n14  P76\n15    e\n16  K86\n17  T93\n18    e\n19  L90\n20  K83\n21  L84\n22    e\n23  K86\n24  L98\n25    e\n26  S87\n27  K86\n28  N88\n29    e\n30  T93\n31  Y85\n32  K86\n33  Y77\n34  K74\n35  K75\n36    e\n37  K86\n38  L91\n39  X76\n40  L98\n41  P70\n42    e\n43  R95\n44  T92\n45  K77\n46    e",
      "text/html": "<div>\n<style scoped>\n    .dataframe tbody tr th:only-of-type {\n        vertical-align: middle;\n    }\n\n    .dataframe tbody tr th {\n        vertical-align: top;\n    }\n\n    .dataframe thead th {\n        text-align: right;\n    }\n</style>\n<table border=\"1\" class=\"dataframe\">\n  <thead>\n    <tr style=\"text-align: right;\">\n      <th></th>\n      <th>0</th>\n    </tr>\n  </thead>\n  <tbody>\n    <tr>\n      <th>0</th>\n      <td>K86</td>\n    </tr>\n    <tr>\n      <th>1</th>\n      <td>L95</td>\n    </tr>\n    <tr>\n      <th>2</th>\n      <td>P70</td>\n    </tr>\n    <tr>\n      <th>3</th>\n      <td>L91</td>\n    </tr>\n    <tr>\n      <th>4</th>\n      <td>e</td>\n    </tr>\n    <tr>\n      <th>5</th>\n      <td>T92</td>\n    </tr>\n    <tr>\n      <th>6</th>\n      <td>K86</td>\n    </tr>\n    <tr>\n      <th>7</th>\n      <td>R96</td>\n    </tr>\n    <tr>\n      <th>8</th>\n      <td>L90</td>\n    </tr>\n    <tr>\n      <th>9</th>\n      <td>e</td>\n    </tr>\n    <tr>\n      <th>10</th>\n      <td>R79</td>\n    </tr>\n    <tr>\n      <th>11</th>\n      <td>L89</td>\n    </tr>\n    <tr>\n      <th>12</th>\n      <td>K75</td>\n    </tr>\n    <tr>\n      <th>13</th>\n      <td>L91</td>\n    </tr>\n    <tr>\n      <th>14</th>\n      <td>P76</td>\n    </tr>\n    <tr>\n      <th>15</th>\n      <td>e</td>\n    </tr>\n    <tr>\n      <th>16</th>\n      <td>K86</td>\n    </tr>\n    <tr>\n      <th>17</th>\n      <td>T93</td>\n    </tr>\n    <tr>\n      <th>18</th>\n      <td>e</td>\n    </tr>\n    <tr>\n      <th>19</th>\n      <td>L90</td>\n    </tr>\n    <tr>\n      <th>20</th>\n      <td>K83</td>\n    </tr>\n    <tr>\n      <th>21</th>\n      <td>L84</td>\n    </tr>\n    <tr>\n      <th>22</th>\n      <td>e</td>\n    </tr>\n    <tr>\n      <th>23</th>\n      <td>K86</td>\n    </tr>\n    <tr>\n      <th>24</th>\n      <td>L98</td>\n    </tr>\n    <tr>\n      <th>25</th>\n      <td>e</td>\n    </tr>\n    <tr>\n      <th>26</th>\n      <td>S87</td>\n    </tr>\n    <tr>\n      <th>27</th>\n      <td>K86</td>\n    </tr>\n    <tr>\n      <th>28</th>\n      <td>N88</td>\n    </tr>\n    <tr>\n      <th>29</th>\n      <td>e</td>\n    </tr>\n    <tr>\n      <th>30</th>\n      <td>T93</td>\n    </tr>\n    <tr>\n      <th>31</th>\n      <td>Y85</td>\n    </tr>\n    <tr>\n      <th>32</th>\n      <td>K86</td>\n    </tr>\n    <tr>\n      <th>33</th>\n      <td>Y77</td>\n    </tr>\n    <tr>\n      <th>34</th>\n      <td>K74</td>\n    </tr>\n    <tr>\n      <th>35</th>\n      <td>K75</td>\n    </tr>\n    <tr>\n      <th>36</th>\n      <td>e</td>\n    </tr>\n    <tr>\n      <th>37</th>\n      <td>K86</td>\n    </tr>\n    <tr>\n      <th>38</th>\n      <td>L91</td>\n    </tr>\n    <tr>\n      <th>39</th>\n      <td>X76</td>\n    </tr>\n    <tr>\n      <th>40</th>\n      <td>L98</td>\n    </tr>\n    <tr>\n      <th>41</th>\n      <td>P70</td>\n    </tr>\n    <tr>\n      <th>42</th>\n      <td>e</td>\n    </tr>\n    <tr>\n      <th>43</th>\n      <td>R95</td>\n    </tr>\n    <tr>\n      <th>44</th>\n      <td>T92</td>\n    </tr>\n    <tr>\n      <th>45</th>\n      <td>K77</td>\n    </tr>\n    <tr>\n      <th>46</th>\n      <td>e</td>\n    </tr>\n  </tbody>\n</table>\n</div>"
     },
     "metadata": {},
     "output_type": "execute_result",
     "execution_count": 4
    }
   ],
   "source": [
    "Series1=pd.read_csv('MarkovSeriesExample.csv')\n",
    "Series1"
   ],
   "metadata": {
    "collapsed": false,
    "pycharm": {
     "name": "#%%\n",
     "is_executing": false
    }
   }
  },
  {
   "cell_type": "code",
   "execution_count": 5,
   "outputs": [
    {
     "data": {
      "text/plain": "state2  K74  K75  K77  K83       K86  L84  L89       L90       L91       L95  \\\nstate1                                                                         \nK74     0.0  1.0  0.0  0.0  0.000000  0.0  0.0  0.000000  0.000000  0.000000   \nK75     0.0  0.0  0.0  0.0  0.000000  0.0  0.0  0.000000  0.500000  0.000000   \nK77     0.0  0.0  0.0  0.0  0.000000  0.0  0.0  0.000000  0.000000  0.000000   \nK83     0.0  0.0  0.0  0.0  0.000000  1.0  0.0  0.000000  0.000000  0.000000   \nK86     0.0  0.0  0.0  0.0  0.000000  0.0  0.0  0.000000  0.142857  0.142857   \nL84     0.0  0.0  0.0  0.0  0.000000  0.0  0.0  0.000000  0.000000  0.000000   \nL89     0.0  1.0  0.0  0.0  0.000000  0.0  0.0  0.000000  0.000000  0.000000   \nL90     0.0  0.0  0.0  0.5  0.000000  0.0  0.0  0.000000  0.000000  0.000000   \nL91     0.0  0.0  0.0  0.0  0.000000  0.0  0.0  0.000000  0.000000  0.000000   \nL95     0.0  0.0  0.0  0.0  0.000000  0.0  0.0  0.000000  0.000000  0.000000   \nL98     0.0  0.0  0.0  0.0  0.000000  0.0  0.0  0.000000  0.000000  0.000000   \nN88     0.0  0.0  0.0  0.0  0.000000  0.0  0.0  0.000000  0.000000  0.000000   \nP70     0.0  0.0  0.0  0.0  0.000000  0.0  0.0  0.000000  0.500000  0.000000   \nP76     0.0  0.0  0.0  0.0  0.000000  0.0  0.0  0.000000  0.000000  0.000000   \nR79     0.0  0.0  0.0  0.0  0.000000  0.0  1.0  0.000000  0.000000  0.000000   \nR95     0.0  0.0  0.0  0.0  0.000000  0.0  0.0  0.000000  0.000000  0.000000   \nR96     0.0  0.0  0.0  0.0  0.000000  0.0  0.0  1.000000  0.000000  0.000000   \nS87     0.0  0.0  0.0  0.0  1.000000  0.0  0.0  0.000000  0.000000  0.000000   \nT92     0.0  0.0  0.5  0.0  0.500000  0.0  0.0  0.000000  0.000000  0.000000   \nT93     0.0  0.0  0.0  0.0  0.000000  0.0  0.0  0.000000  0.000000  0.000000   \nX76     0.0  0.0  0.0  0.0  0.000000  0.0  0.0  0.000000  0.000000  0.000000   \nY77     1.0  0.0  0.0  0.0  0.000000  0.0  0.0  0.000000  0.000000  0.000000   \nY85     0.0  0.0  0.0  0.0  1.000000  0.0  0.0  0.000000  0.000000  0.000000   \ne       0.0  0.0  0.0  0.0  0.333333  0.0  0.0  0.111111  0.000000  0.000000   \n\nstate2  ...       R79       R95       R96       S87       T92       T93  \\\nstate1  ...                                                               \nK74     ...  0.000000  0.000000  0.000000  0.000000  0.000000  0.000000   \nK75     ...  0.000000  0.000000  0.000000  0.000000  0.000000  0.000000   \nK77     ...  0.000000  0.000000  0.000000  0.000000  0.000000  0.000000   \nK83     ...  0.000000  0.000000  0.000000  0.000000  0.000000  0.000000   \nK86     ...  0.000000  0.000000  0.142857  0.000000  0.000000  0.142857   \nL84     ...  0.000000  0.000000  0.000000  0.000000  0.000000  0.000000   \nL89     ...  0.000000  0.000000  0.000000  0.000000  0.000000  0.000000   \nL90     ...  0.000000  0.000000  0.000000  0.000000  0.000000  0.000000   \nL91     ...  0.000000  0.000000  0.000000  0.000000  0.000000  0.000000   \nL95     ...  0.000000  0.000000  0.000000  0.000000  0.000000  0.000000   \nL98     ...  0.000000  0.000000  0.000000  0.000000  0.000000  0.000000   \nN88     ...  0.000000  0.000000  0.000000  0.000000  0.000000  0.000000   \nP70     ...  0.000000  0.000000  0.000000  0.000000  0.000000  0.000000   \nP76     ...  0.000000  0.000000  0.000000  0.000000  0.000000  0.000000   \nR79     ...  0.000000  0.000000  0.000000  0.000000  0.000000  0.000000   \nR95     ...  0.000000  0.000000  0.000000  0.000000  1.000000  0.000000   \nR96     ...  0.000000  0.000000  0.000000  0.000000  0.000000  0.000000   \nS87     ...  0.000000  0.000000  0.000000  0.000000  0.000000  0.000000   \nT92     ...  0.000000  0.000000  0.000000  0.000000  0.000000  0.000000   \nT93     ...  0.000000  0.000000  0.000000  0.000000  0.000000  0.000000   \nX76     ...  0.000000  0.000000  0.000000  0.000000  0.000000  0.000000   \nY77     ...  0.000000  0.000000  0.000000  0.000000  0.000000  0.000000   \nY85     ...  0.000000  0.000000  0.000000  0.000000  0.000000  0.000000   \ne       ...  0.111111  0.111111  0.000000  0.111111  0.111111  0.111111   \n\nstate2       X76       Y77  Y85         e  \nstate1                                     \nK74     0.000000  0.000000  0.0  0.000000  \nK75     0.000000  0.000000  0.0  0.500000  \nK77     0.000000  0.000000  0.0  1.000000  \nK83     0.000000  0.000000  0.0  0.000000  \nK86     0.000000  0.142857  0.0  0.000000  \nL84     0.000000  0.000000  0.0  1.000000  \nL89     0.000000  0.000000  0.0  0.000000  \nL90     0.000000  0.000000  0.0  0.500000  \nL91     0.333333  0.000000  0.0  0.333333  \nL95     0.000000  0.000000  0.0  0.000000  \nL98     0.000000  0.000000  0.0  0.500000  \nN88     0.000000  0.000000  0.0  1.000000  \nP70     0.000000  0.000000  0.0  0.500000  \nP76     0.000000  0.000000  0.0  1.000000  \nR79     0.000000  0.000000  0.0  0.000000  \nR95     0.000000  0.000000  0.0  0.000000  \nR96     0.000000  0.000000  0.0  0.000000  \nS87     0.000000  0.000000  0.0  0.000000  \nT92     0.000000  0.000000  0.0  0.000000  \nT93     0.000000  0.000000  0.5  0.500000  \nX76     0.000000  0.000000  0.0  0.000000  \nY77     0.000000  0.000000  0.0  0.000000  \nY85     0.000000  0.000000  0.0  0.000000  \ne       0.000000  0.000000  0.0  0.000000  \n\n[24 rows x 24 columns]",
      "text/html": "<div>\n<style scoped>\n    .dataframe tbody tr th:only-of-type {\n        vertical-align: middle;\n    }\n\n    .dataframe tbody tr th {\n        vertical-align: top;\n    }\n\n    .dataframe thead th {\n        text-align: right;\n    }\n</style>\n<table border=\"1\" class=\"dataframe\">\n  <thead>\n    <tr style=\"text-align: right;\">\n      <th>state2</th>\n      <th>K74</th>\n      <th>K75</th>\n      <th>K77</th>\n      <th>K83</th>\n      <th>K86</th>\n      <th>L84</th>\n      <th>L89</th>\n      <th>L90</th>\n      <th>L91</th>\n      <th>L95</th>\n      <th>...</th>\n      <th>R79</th>\n      <th>R95</th>\n      <th>R96</th>\n      <th>S87</th>\n      <th>T92</th>\n      <th>T93</th>\n      <th>X76</th>\n      <th>Y77</th>\n      <th>Y85</th>\n      <th>e</th>\n    </tr>\n    <tr>\n      <th>state1</th>\n      <th></th>\n      <th></th>\n      <th></th>\n      <th></th>\n      <th></th>\n      <th></th>\n      <th></th>\n      <th></th>\n      <th></th>\n      <th></th>\n      <th></th>\n      <th></th>\n      <th></th>\n      <th></th>\n      <th></th>\n      <th></th>\n      <th></th>\n      <th></th>\n      <th></th>\n      <th></th>\n      <th></th>\n    </tr>\n  </thead>\n  <tbody>\n    <tr>\n      <th>K74</th>\n      <td>0.0</td>\n      <td>1.0</td>\n      <td>0.0</td>\n      <td>0.0</td>\n      <td>0.000000</td>\n      <td>0.0</td>\n      <td>0.0</td>\n      <td>0.000000</td>\n      <td>0.000000</td>\n      <td>0.000000</td>\n      <td>...</td>\n      <td>0.000000</td>\n      <td>0.000000</td>\n      <td>0.000000</td>\n      <td>0.000000</td>\n      <td>0.000000</td>\n      <td>0.000000</td>\n      <td>0.000000</td>\n      <td>0.000000</td>\n      <td>0.0</td>\n      <td>0.000000</td>\n    </tr>\n    <tr>\n      <th>K75</th>\n      <td>0.0</td>\n      <td>0.0</td>\n      <td>0.0</td>\n      <td>0.0</td>\n      <td>0.000000</td>\n      <td>0.0</td>\n      <td>0.0</td>\n      <td>0.000000</td>\n      <td>0.500000</td>\n      <td>0.000000</td>\n      <td>...</td>\n      <td>0.000000</td>\n      <td>0.000000</td>\n      <td>0.000000</td>\n      <td>0.000000</td>\n      <td>0.000000</td>\n      <td>0.000000</td>\n      <td>0.000000</td>\n      <td>0.000000</td>\n      <td>0.0</td>\n      <td>0.500000</td>\n    </tr>\n    <tr>\n      <th>K77</th>\n      <td>0.0</td>\n      <td>0.0</td>\n      <td>0.0</td>\n      <td>0.0</td>\n      <td>0.000000</td>\n      <td>0.0</td>\n      <td>0.0</td>\n      <td>0.000000</td>\n      <td>0.000000</td>\n      <td>0.000000</td>\n      <td>...</td>\n      <td>0.000000</td>\n      <td>0.000000</td>\n      <td>0.000000</td>\n      <td>0.000000</td>\n      <td>0.000000</td>\n      <td>0.000000</td>\n      <td>0.000000</td>\n      <td>0.000000</td>\n      <td>0.0</td>\n      <td>1.000000</td>\n    </tr>\n    <tr>\n      <th>K83</th>\n      <td>0.0</td>\n      <td>0.0</td>\n      <td>0.0</td>\n      <td>0.0</td>\n      <td>0.000000</td>\n      <td>1.0</td>\n      <td>0.0</td>\n      <td>0.000000</td>\n      <td>0.000000</td>\n      <td>0.000000</td>\n      <td>...</td>\n      <td>0.000000</td>\n      <td>0.000000</td>\n      <td>0.000000</td>\n      <td>0.000000</td>\n      <td>0.000000</td>\n      <td>0.000000</td>\n      <td>0.000000</td>\n      <td>0.000000</td>\n      <td>0.0</td>\n      <td>0.000000</td>\n    </tr>\n    <tr>\n      <th>K86</th>\n      <td>0.0</td>\n      <td>0.0</td>\n      <td>0.0</td>\n      <td>0.0</td>\n      <td>0.000000</td>\n      <td>0.0</td>\n      <td>0.0</td>\n      <td>0.000000</td>\n      <td>0.142857</td>\n      <td>0.142857</td>\n      <td>...</td>\n      <td>0.000000</td>\n      <td>0.000000</td>\n      <td>0.142857</td>\n      <td>0.000000</td>\n      <td>0.000000</td>\n      <td>0.142857</td>\n      <td>0.000000</td>\n      <td>0.142857</td>\n      <td>0.0</td>\n      <td>0.000000</td>\n    </tr>\n    <tr>\n      <th>L84</th>\n      <td>0.0</td>\n      <td>0.0</td>\n      <td>0.0</td>\n      <td>0.0</td>\n      <td>0.000000</td>\n      <td>0.0</td>\n      <td>0.0</td>\n      <td>0.000000</td>\n      <td>0.000000</td>\n      <td>0.000000</td>\n      <td>...</td>\n      <td>0.000000</td>\n      <td>0.000000</td>\n      <td>0.000000</td>\n      <td>0.000000</td>\n      <td>0.000000</td>\n      <td>0.000000</td>\n      <td>0.000000</td>\n      <td>0.000000</td>\n      <td>0.0</td>\n      <td>1.000000</td>\n    </tr>\n    <tr>\n      <th>L89</th>\n      <td>0.0</td>\n      <td>1.0</td>\n      <td>0.0</td>\n      <td>0.0</td>\n      <td>0.000000</td>\n      <td>0.0</td>\n      <td>0.0</td>\n      <td>0.000000</td>\n      <td>0.000000</td>\n      <td>0.000000</td>\n      <td>...</td>\n      <td>0.000000</td>\n      <td>0.000000</td>\n      <td>0.000000</td>\n      <td>0.000000</td>\n      <td>0.000000</td>\n      <td>0.000000</td>\n      <td>0.000000</td>\n      <td>0.000000</td>\n      <td>0.0</td>\n      <td>0.000000</td>\n    </tr>\n    <tr>\n      <th>L90</th>\n      <td>0.0</td>\n      <td>0.0</td>\n      <td>0.0</td>\n      <td>0.5</td>\n      <td>0.000000</td>\n      <td>0.0</td>\n      <td>0.0</td>\n      <td>0.000000</td>\n      <td>0.000000</td>\n      <td>0.000000</td>\n      <td>...</td>\n      <td>0.000000</td>\n      <td>0.000000</td>\n      <td>0.000000</td>\n      <td>0.000000</td>\n      <td>0.000000</td>\n      <td>0.000000</td>\n      <td>0.000000</td>\n      <td>0.000000</td>\n      <td>0.0</td>\n      <td>0.500000</td>\n    </tr>\n    <tr>\n      <th>L91</th>\n      <td>0.0</td>\n      <td>0.0</td>\n      <td>0.0</td>\n      <td>0.0</td>\n      <td>0.000000</td>\n      <td>0.0</td>\n      <td>0.0</td>\n      <td>0.000000</td>\n      <td>0.000000</td>\n      <td>0.000000</td>\n      <td>...</td>\n      <td>0.000000</td>\n      <td>0.000000</td>\n      <td>0.000000</td>\n      <td>0.000000</td>\n      <td>0.000000</td>\n      <td>0.000000</td>\n      <td>0.333333</td>\n      <td>0.000000</td>\n      <td>0.0</td>\n      <td>0.333333</td>\n    </tr>\n    <tr>\n      <th>L95</th>\n      <td>0.0</td>\n      <td>0.0</td>\n      <td>0.0</td>\n      <td>0.0</td>\n      <td>0.000000</td>\n      <td>0.0</td>\n      <td>0.0</td>\n      <td>0.000000</td>\n      <td>0.000000</td>\n      <td>0.000000</td>\n      <td>...</td>\n      <td>0.000000</td>\n      <td>0.000000</td>\n      <td>0.000000</td>\n      <td>0.000000</td>\n      <td>0.000000</td>\n      <td>0.000000</td>\n      <td>0.000000</td>\n      <td>0.000000</td>\n      <td>0.0</td>\n      <td>0.000000</td>\n    </tr>\n    <tr>\n      <th>L98</th>\n      <td>0.0</td>\n      <td>0.0</td>\n      <td>0.0</td>\n      <td>0.0</td>\n      <td>0.000000</td>\n      <td>0.0</td>\n      <td>0.0</td>\n      <td>0.000000</td>\n      <td>0.000000</td>\n      <td>0.000000</td>\n      <td>...</td>\n      <td>0.000000</td>\n      <td>0.000000</td>\n      <td>0.000000</td>\n      <td>0.000000</td>\n      <td>0.000000</td>\n      <td>0.000000</td>\n      <td>0.000000</td>\n      <td>0.000000</td>\n      <td>0.0</td>\n      <td>0.500000</td>\n    </tr>\n    <tr>\n      <th>N88</th>\n      <td>0.0</td>\n      <td>0.0</td>\n      <td>0.0</td>\n      <td>0.0</td>\n      <td>0.000000</td>\n      <td>0.0</td>\n      <td>0.0</td>\n      <td>0.000000</td>\n      <td>0.000000</td>\n      <td>0.000000</td>\n      <td>...</td>\n      <td>0.000000</td>\n      <td>0.000000</td>\n      <td>0.000000</td>\n      <td>0.000000</td>\n      <td>0.000000</td>\n      <td>0.000000</td>\n      <td>0.000000</td>\n      <td>0.000000</td>\n      <td>0.0</td>\n      <td>1.000000</td>\n    </tr>\n    <tr>\n      <th>P70</th>\n      <td>0.0</td>\n      <td>0.0</td>\n      <td>0.0</td>\n      <td>0.0</td>\n      <td>0.000000</td>\n      <td>0.0</td>\n      <td>0.0</td>\n      <td>0.000000</td>\n      <td>0.500000</td>\n      <td>0.000000</td>\n      <td>...</td>\n      <td>0.000000</td>\n      <td>0.000000</td>\n      <td>0.000000</td>\n      <td>0.000000</td>\n      <td>0.000000</td>\n      <td>0.000000</td>\n      <td>0.000000</td>\n      <td>0.000000</td>\n      <td>0.0</td>\n      <td>0.500000</td>\n    </tr>\n    <tr>\n      <th>P76</th>\n      <td>0.0</td>\n      <td>0.0</td>\n      <td>0.0</td>\n      <td>0.0</td>\n      <td>0.000000</td>\n      <td>0.0</td>\n      <td>0.0</td>\n      <td>0.000000</td>\n      <td>0.000000</td>\n      <td>0.000000</td>\n      <td>...</td>\n      <td>0.000000</td>\n      <td>0.000000</td>\n      <td>0.000000</td>\n      <td>0.000000</td>\n      <td>0.000000</td>\n      <td>0.000000</td>\n      <td>0.000000</td>\n      <td>0.000000</td>\n      <td>0.0</td>\n      <td>1.000000</td>\n    </tr>\n    <tr>\n      <th>R79</th>\n      <td>0.0</td>\n      <td>0.0</td>\n      <td>0.0</td>\n      <td>0.0</td>\n      <td>0.000000</td>\n      <td>0.0</td>\n      <td>1.0</td>\n      <td>0.000000</td>\n      <td>0.000000</td>\n      <td>0.000000</td>\n      <td>...</td>\n      <td>0.000000</td>\n      <td>0.000000</td>\n      <td>0.000000</td>\n      <td>0.000000</td>\n      <td>0.000000</td>\n      <td>0.000000</td>\n      <td>0.000000</td>\n      <td>0.000000</td>\n      <td>0.0</td>\n      <td>0.000000</td>\n    </tr>\n    <tr>\n      <th>R95</th>\n      <td>0.0</td>\n      <td>0.0</td>\n      <td>0.0</td>\n      <td>0.0</td>\n      <td>0.000000</td>\n      <td>0.0</td>\n      <td>0.0</td>\n      <td>0.000000</td>\n      <td>0.000000</td>\n      <td>0.000000</td>\n      <td>...</td>\n      <td>0.000000</td>\n      <td>0.000000</td>\n      <td>0.000000</td>\n      <td>0.000000</td>\n      <td>1.000000</td>\n      <td>0.000000</td>\n      <td>0.000000</td>\n      <td>0.000000</td>\n      <td>0.0</td>\n      <td>0.000000</td>\n    </tr>\n    <tr>\n      <th>R96</th>\n      <td>0.0</td>\n      <td>0.0</td>\n      <td>0.0</td>\n      <td>0.0</td>\n      <td>0.000000</td>\n      <td>0.0</td>\n      <td>0.0</td>\n      <td>1.000000</td>\n      <td>0.000000</td>\n      <td>0.000000</td>\n      <td>...</td>\n      <td>0.000000</td>\n      <td>0.000000</td>\n      <td>0.000000</td>\n      <td>0.000000</td>\n      <td>0.000000</td>\n      <td>0.000000</td>\n      <td>0.000000</td>\n      <td>0.000000</td>\n      <td>0.0</td>\n      <td>0.000000</td>\n    </tr>\n    <tr>\n      <th>S87</th>\n      <td>0.0</td>\n      <td>0.0</td>\n      <td>0.0</td>\n      <td>0.0</td>\n      <td>1.000000</td>\n      <td>0.0</td>\n      <td>0.0</td>\n      <td>0.000000</td>\n      <td>0.000000</td>\n      <td>0.000000</td>\n      <td>...</td>\n      <td>0.000000</td>\n      <td>0.000000</td>\n      <td>0.000000</td>\n      <td>0.000000</td>\n      <td>0.000000</td>\n      <td>0.000000</td>\n      <td>0.000000</td>\n      <td>0.000000</td>\n      <td>0.0</td>\n      <td>0.000000</td>\n    </tr>\n    <tr>\n      <th>T92</th>\n      <td>0.0</td>\n      <td>0.0</td>\n      <td>0.5</td>\n      <td>0.0</td>\n      <td>0.500000</td>\n      <td>0.0</td>\n      <td>0.0</td>\n      <td>0.000000</td>\n      <td>0.000000</td>\n      <td>0.000000</td>\n      <td>...</td>\n      <td>0.000000</td>\n      <td>0.000000</td>\n      <td>0.000000</td>\n      <td>0.000000</td>\n      <td>0.000000</td>\n      <td>0.000000</td>\n      <td>0.000000</td>\n      <td>0.000000</td>\n      <td>0.0</td>\n      <td>0.000000</td>\n    </tr>\n    <tr>\n      <th>T93</th>\n      <td>0.0</td>\n      <td>0.0</td>\n      <td>0.0</td>\n      <td>0.0</td>\n      <td>0.000000</td>\n      <td>0.0</td>\n      <td>0.0</td>\n      <td>0.000000</td>\n      <td>0.000000</td>\n      <td>0.000000</td>\n      <td>...</td>\n      <td>0.000000</td>\n      <td>0.000000</td>\n      <td>0.000000</td>\n      <td>0.000000</td>\n      <td>0.000000</td>\n      <td>0.000000</td>\n      <td>0.000000</td>\n      <td>0.000000</td>\n      <td>0.5</td>\n      <td>0.500000</td>\n    </tr>\n    <tr>\n      <th>X76</th>\n      <td>0.0</td>\n      <td>0.0</td>\n      <td>0.0</td>\n      <td>0.0</td>\n      <td>0.000000</td>\n      <td>0.0</td>\n      <td>0.0</td>\n      <td>0.000000</td>\n      <td>0.000000</td>\n      <td>0.000000</td>\n      <td>...</td>\n      <td>0.000000</td>\n      <td>0.000000</td>\n      <td>0.000000</td>\n      <td>0.000000</td>\n      <td>0.000000</td>\n      <td>0.000000</td>\n      <td>0.000000</td>\n      <td>0.000000</td>\n      <td>0.0</td>\n      <td>0.000000</td>\n    </tr>\n    <tr>\n      <th>Y77</th>\n      <td>1.0</td>\n      <td>0.0</td>\n      <td>0.0</td>\n      <td>0.0</td>\n      <td>0.000000</td>\n      <td>0.0</td>\n      <td>0.0</td>\n      <td>0.000000</td>\n      <td>0.000000</td>\n      <td>0.000000</td>\n      <td>...</td>\n      <td>0.000000</td>\n      <td>0.000000</td>\n      <td>0.000000</td>\n      <td>0.000000</td>\n      <td>0.000000</td>\n      <td>0.000000</td>\n      <td>0.000000</td>\n      <td>0.000000</td>\n      <td>0.0</td>\n      <td>0.000000</td>\n    </tr>\n    <tr>\n      <th>Y85</th>\n      <td>0.0</td>\n      <td>0.0</td>\n      <td>0.0</td>\n      <td>0.0</td>\n      <td>1.000000</td>\n      <td>0.0</td>\n      <td>0.0</td>\n      <td>0.000000</td>\n      <td>0.000000</td>\n      <td>0.000000</td>\n      <td>...</td>\n      <td>0.000000</td>\n      <td>0.000000</td>\n      <td>0.000000</td>\n      <td>0.000000</td>\n      <td>0.000000</td>\n      <td>0.000000</td>\n      <td>0.000000</td>\n      <td>0.000000</td>\n      <td>0.0</td>\n      <td>0.000000</td>\n    </tr>\n    <tr>\n      <th>e</th>\n      <td>0.0</td>\n      <td>0.0</td>\n      <td>0.0</td>\n      <td>0.0</td>\n      <td>0.333333</td>\n      <td>0.0</td>\n      <td>0.0</td>\n      <td>0.111111</td>\n      <td>0.000000</td>\n      <td>0.000000</td>\n      <td>...</td>\n      <td>0.111111</td>\n      <td>0.111111</td>\n      <td>0.000000</td>\n      <td>0.111111</td>\n      <td>0.111111</td>\n      <td>0.111111</td>\n      <td>0.000000</td>\n      <td>0.000000</td>\n      <td>0.0</td>\n      <td>0.000000</td>\n    </tr>\n  </tbody>\n</table>\n<p>24 rows × 24 columns</p>\n</div>"
     },
     "metadata": {},
     "output_type": "execute_result",
     "execution_count": 5
    }
   ],
   "source": [
    "probs=MarkovSimulator(Series1.iloc[:,0])\n",
    "probs\n",
    "\n"
   ],
   "metadata": {
    "collapsed": false,
    "pycharm": {
     "name": "#%%\n",
     "is_executing": false
    }
   }
  }
 ],
 "metadata": {
  "kernelspec": {
   "display_name": "Python 3",
   "language": "python",
   "name": "python3"
  },
  "language_info": {
   "codemirror_mode": {
    "name": "ipython",
    "version": 2
   },
   "file_extension": ".py",
   "mimetype": "text/x-python",
   "name": "python",
   "nbconvert_exporter": "python",
   "pygments_lexer": "ipython2",
   "version": "2.7.6"
  },
  "pycharm": {
   "stem_cell": {
    "cell_type": "raw",
    "source": [],
    "metadata": {
     "collapsed": false
    }
   }
  }
 },
 "nbformat": 4,
 "nbformat_minor": 0
}